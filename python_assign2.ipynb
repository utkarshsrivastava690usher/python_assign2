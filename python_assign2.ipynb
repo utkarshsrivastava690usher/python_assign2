{
 "cells": [
  {
   "cell_type": "code",
   "execution_count": 4,
   "id": "1a8fb5bc",
   "metadata": {},
   "outputs": [
    {
     "name": "stdout",
     "output_type": "stream",
     "text": [
      "Enter the no. 8\n"
     ]
    },
    {
     "data": {
      "text/plain": [
       "64"
      ]
     },
     "execution_count": 4,
     "metadata": {},
     "output_type": "execute_result"
    }
   ],
   "source": [
    "\"\"\" 1. WRITE A FUNCTION THAT TAKES A VARIABLE AND SQUARE IT, THEN TEST THE FUNCTION BY TAKING AN INPUT FROM A USER\"\"\"\n",
    "\n",
    "def square_num(num):\n",
    "    return num ** 2\n",
    "\n",
    "\n",
    "n= int(input(\"Enter the no. \"))\n",
    "square_num(n)"
   ]
  },
  {
   "cell_type": "code",
   "execution_count": 4,
   "id": "d8dbc542",
   "metadata": {},
   "outputs": [
    {
     "name": "stdout",
     "output_type": "stream",
     "text": [
      "Enter the first number: 4\n",
      "Enter the second number: 5\n",
      "Summation: 9\n",
      "Product: 20\n",
      "Enter the first number: 6\n",
      "Enter the second number: 5\n",
      "Summation: 11\n",
      "Product: 30\n"
     ]
    }
   ],
   "source": [
    "\"\"\" 2. WRITE A FUNCTION THAT TAKES 2 VARIABLE AND OBTAIN THE SUMMATION AND MULTIPLICATION, \n",
    "   THEN TEST THE FUNCTION BY TAKING AN INPUT FROM A USER (REPEAT USING LAMBDA EXPRESSIONS)\"\"\"\n",
    "\n",
    "def calc_summ_and_prod(a, b):\n",
    "    summ = a + b\n",
    "    prod = a * b\n",
    "    return summ, prod\n",
    "\n",
    "input_a = int(input(\"Enter the first number: \"))\n",
    "input_b = int(input(\"Enter the second number: \"))\n",
    "\n",
    "summ, prod = calc_summ_and_prod(input_a, input_b)\n",
    "\n",
    "print(f\"Summation: {summ}\")\n",
    "print(f\"Product: {prod}\")\n",
    "\n",
    "# using lambda below \n",
    "\n",
    "calc_summ= lambda a, b : a+b\n",
    "calc_prod= lambda a, b : a*b\n",
    "\n",
    "input_a = int(input(\"Enter the first number: \"))\n",
    "input_b = int(input(\"Enter the second number: \"))\n",
    "\n",
    "summ= calc_summ(input_a, input_b)\n",
    "prod= calc_prod(input_a, input_b)\n",
    "\n",
    "print(f\"Summation: {summ}\")\n",
    "print(f\"Product: {prod}\")"
   ]
  },
  {
   "cell_type": "code",
   "execution_count": 2,
   "id": "e21076a7",
   "metadata": {},
   "outputs": [
    {
     "name": "stdout",
     "output_type": "stream",
     "text": [
      "Enter the no. 6\n",
      "720\n"
     ]
    }
   ],
   "source": [
    "\"\"\" 3. WRITE A FUNCTION THAT TAKES A VARIABLE AND RETURNS ITS FACTORIAL \"\"\"\n",
    "\n",
    "def fact(n):\n",
    "        res = 1\n",
    "        for i in range(1, n + 1):\n",
    "            res *= i\n",
    "        return res\n",
    "    \n",
    "n= int(input(\"Enter the no. \"))\n",
    "res= fact(n)\n",
    "print(res)"
   ]
  },
  {
   "cell_type": "code",
   "execution_count": 6,
   "id": "24907c04",
   "metadata": {},
   "outputs": [
    {
     "name": "stdout",
     "output_type": "stream",
     "text": [
      "Original List: [1, 2, 3, 4, 5]\n",
      "Squared List: [1, 4, 9, 16, 25]\n"
     ]
    }
   ],
   "source": [
    "\"\"\" 4. DEVELOP A SCRIPT WHOSE ITEMS ARE SQUARES OF THE ORIGINAL LIST \"\"\"\n",
    "\n",
    "def squareit(input_list):\n",
    "    squared_list = [i ** 2 for i in input_list]\n",
    "    return squared_list\n",
    "\n",
    "orig_list = [1, 2, 3, 4, 5]\n",
    "squared_result = squareit(orig_list)\n",
    "\n",
    "print(\"Original List:\", orig_list)\n",
    "print(\"Squared List:\", squared_result)"
   ]
  },
  {
   "cell_type": "code",
   "execution_count": 8,
   "id": "c4ba2758",
   "metadata": {},
   "outputs": [
    {
     "name": "stdout",
     "output_type": "stream",
     "text": [
      "The square of 2 is 4\n",
      "The square of 3 is 9\n",
      "The square of 4 is 16\n",
      "The square of 5 is 25\n",
      "The square of 6 is 36\n",
      "The square of 7 is 49\n",
      "The square of 8 is 64\n",
      "The square of 9 is 81\n",
      "The square of 10 is 100\n",
      "The square of 11 is 121\n",
      "The square of 12 is 144\n",
      "The square of 13 is 169\n",
      "The square of 14 is 196\n",
      "The square of 15 is 225\n",
      "The square of 16 is 256\n",
      "The square of 17 is 289\n",
      "The square of 18 is 324\n",
      "The square of 19 is 361\n",
      "The square of 20 is 400\n"
     ]
    }
   ],
   "source": [
    "\"\"\" 5. WRITE A FUNCTION THAT SQUARES A VARIABLE AND THEN TEST THE FUNCTION USING A LIST OF INTEGER NUMBERS RANGING FROM 2 to 20\"\"\"\n",
    "\n",
    "def square_num(x):\n",
    "    return x ** 2\n",
    "\n",
    "num_list = list(range(2, 21))\n",
    "\n",
    "for i in number_list:\n",
    "    res = square_num(i)\n",
    "    print(f\"The square of {i} is {res}\")"
   ]
  },
  {
   "cell_type": "code",
   "execution_count": 2,
   "id": "606c9647",
   "metadata": {},
   "outputs": [
    {
     "name": "stdout",
     "output_type": "stream",
     "text": [
      "Enter the radius of the circle: 7\n",
      "Diameter of the circle: 14.0\n",
      "Area of the circle: 153.86\n",
      "Circumference of the circle: 43.96\n"
     ]
    }
   ],
   "source": [
    "\"\"\" 6. WRITE 3 FUNCTIONS THAT TAKE THE RADIUS OF A CIRCLE AND RETURN THE DIAMETER, AREA AND CIRCUMFERENCE, \n",
    "   TEST THE FUNCTION USING AN INPUT FROM A USER \"\"\"\n",
    "\n",
    "def diameter(r):\n",
    "    return 2 * r\n",
    "\n",
    "def area(r):\n",
    "    return 3.14 * r**2\n",
    "\n",
    "def circumference(r):\n",
    "    return 2 * 3.14 * r\n",
    "\n",
    "r = float(input(\"Enter the radius of the circle: \"))\n",
    "\n",
    "d = diameter(r)\n",
    "a = area(r)\n",
    "c = circumference(r)\n",
    "\n",
    "print(f\"Diameter of the circle: {d}\")\n",
    "print(f\"Area of the circle: {a}\")\n",
    "print(f\"Circumference of the circle: {c}\")"
   ]
  },
  {
   "cell_type": "code",
   "execution_count": 3,
   "id": "f3a205f3",
   "metadata": {},
   "outputs": [
    {
     "name": "stdout",
     "output_type": "stream",
     "text": [
      "Enter the lower bound of the range: 3\n",
      "Enter the upper bound of the range: 20\n",
      "Positive and even numbers in the specified range:\n",
      "[4, 6, 8, 10, 12, 14, 16, 18, 20]\n"
     ]
    }
   ],
   "source": [
    "\"\"\" 7. WRITE A CODE THAT TAKES A RANGE FROM A USER (UPPER AND LOWER BOUND) AND RETURNS A LIST OF POSITIVE AND EVEN NUMBERS ONLY\"\"\"\n",
    "\n",
    "lb = int(input(\"Enter the lower bound of the range: \"))\n",
    "ub = int(input(\"Enter the upper bound of the range: \"))\n",
    "\n",
    "positive_even_numbers = [num for num in range(lb, ub + 1) if num > 0 and num % 2 == 0]\n",
    "\n",
    "print(\"Positive and even numbers in the specified range:\")\n",
    "print(positive_even_numbers)"
   ]
  },
  {
   "cell_type": "code",
   "execution_count": 4,
   "id": "32da1471",
   "metadata": {},
   "outputs": [
    {
     "name": "stdout",
     "output_type": "stream",
     "text": [
      "Even numbers: [2, 4, 6, 8, 10]\n"
     ]
    }
   ],
   "source": [
    "\"\"\" 8. USING FILTER AND LAMBDA EXPRESSION, WRITE A CODE THAT TAKES A LIST OF NUMBERS BELOW AND RETURNS EVEN NUMBERS ONLY\"\"\"\n",
    "\n",
    "num = [1, 2, 3, 4, 5, 6, 7, 8, 9, 10]\n",
    "\n",
    "even_numbers = list(filter(lambda x: x % 2 == 0, num))\n",
    "\n",
    "print(\"Even numbers:\", even_numbers)"
   ]
  },
  {
   "cell_type": "code",
   "execution_count": 5,
   "id": "ce473f5d",
   "metadata": {},
   "outputs": [
    {
     "name": "stdout",
     "output_type": "stream",
     "text": [
      "Enter the first value (or press Enter for default 3): 6\n",
      "Enter the second value (or press Enter for default 5): 5\n",
      "The sum of 6.0 and 5.0 is 11.0\n"
     ]
    }
   ],
   "source": [
    "\"\"\" 9. WRITE A FUNCTION THAT TAKES TWO VALUES FROM A USER AND SUM THEM UP. \n",
    "       IF NO VALUES ARE PROVIDED, ASSUME DEFAULT VALUES OF 3 AND 5\"\"\"\n",
    "\n",
    "def sum_values(a=3, b=5):\n",
    "    return a + b\n",
    "\n",
    "input_a = input(\"Enter the first value (or press Enter for default 3): \")\n",
    "input_b = input(\"Enter the second value (or press Enter for default 5): \")\n",
    "\n",
    "if input_a.strip() == '':\n",
    "    value_a = 3\n",
    "else:\n",
    "    value_a = float(input_a)\n",
    "\n",
    "if input_b.strip() == '':\n",
    "    value_b = 5\n",
    "else:\n",
    "    value_b = float(input_b)\n",
    "\n",
    "result = sum_values(value_a, value_b)\n",
    "\n",
    "print(f\"The sum of {value_a} and {value_b} is {result}\")"
   ]
  },
  {
   "cell_type": "code",
   "execution_count": 6,
   "id": "145c17bb",
   "metadata": {},
   "outputs": [
    {
     "name": "stdout",
     "output_type": "stream",
     "text": [
      "Enter the minimum value: 2\n",
      "Enter the maximum value: 25\n",
      "Numbers divisible by 4 but not multiples of 3:\n",
      "[4, 8, 16, 20]\n"
     ]
    }
   ],
   "source": [
    "\"\"\" 10. WRITE A SCRIPT THAT WILL PROMPT A USER FOR A RANGE (MIN/MAX VALUE) \n",
    "       AND RETURNS NUMBERS THAT ARE DIVISIBLE BY 4 BUT ARE NOT MULTIPLES OF 3\"\"\"\n",
    "\n",
    "min_value = int(input(\"Enter the minimum value: \"))\n",
    "max_value = int(input(\"Enter the maximum value: \"))\n",
    "\n",
    "result_numbers = [num for num in range(min_value, max_value + 1) if num % 4 == 0 and num % 3 != 0]\n",
    "\n",
    "print(\"Numbers divisible by 4 but not multiples of 3:\")\n",
    "print(result_numbers)"
   ]
  },
  {
   "cell_type": "code",
   "execution_count": 7,
   "id": "fe4a5198",
   "metadata": {},
   "outputs": [
    {
     "name": "stdout",
     "output_type": "stream",
     "text": [
      "Enter an English word to translate to French: cat\n",
      "The translation of 'cat' to French is: chat\n"
     ]
    }
   ],
   "source": [
    "\"\"\" 11. DEFINE AN ENGLISH TO FRENCH TRANSLATOR FUNCTION THAT TAKES AN INPUT FROM A USER AND RETURNS THE TRANSLATION, \n",
    "        USE ANY 5 KNOWN WORDS\"\"\"\n",
    "\n",
    "english_to_french = {\n",
    "    \"hello\": \"bonjour\",\n",
    "    \"goodbye\": \"au revoir\",\n",
    "    \"cat\": \"chat\",\n",
    "    \"dog\": \"chien\",\n",
    "    \"apple\": \"pomme\"\n",
    "}\n",
    "\n",
    "\n",
    "def translate_to_french(word):\n",
    "    translation = english_to_french.get(word.lower())\n",
    "    if translation:\n",
    "        return translation\n",
    "    else:\n",
    "        return \"Translation not found.\"\n",
    "\n",
    "user_input = input(\"Enter an English word to translate to French: \")\n",
    "\n",
    "translation = translate_to_french(user_input)\n",
    "print(f\"The translation of '{user_input}' to French is: {translation}\")"
   ]
  }
 ],
 "metadata": {
  "kernelspec": {
   "display_name": "Python 3 (ipykernel)",
   "language": "python",
   "name": "python3"
  },
  "language_info": {
   "codemirror_mode": {
    "name": "ipython",
    "version": 3
   },
   "file_extension": ".py",
   "mimetype": "text/x-python",
   "name": "python",
   "nbconvert_exporter": "python",
   "pygments_lexer": "ipython3",
   "version": "3.11.4"
  }
 },
 "nbformat": 4,
 "nbformat_minor": 5
}
